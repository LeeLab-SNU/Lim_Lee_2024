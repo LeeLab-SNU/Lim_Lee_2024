{
 "cells": [
  {
   "cell_type": "markdown",
   "id": "c2d4f156",
   "metadata": {},
   "source": [
    "## Object selectivity (Fig 4)\n",
    "\n",
    "This code analyzes basic properties of object selectivity and generate plots in Fig 4"
   ]
  },
  {
   "cell_type": "code",
   "execution_count": 1,
   "id": "6ef091ff",
   "metadata": {},
   "outputs": [],
   "source": [
    "import os\n",
    "from pathlib import Path\n",
    "import numpy as np\n",
    "import pandas as pd\n",
    "\n",
    "from scipy import stats\n",
    "import statsmodels.api as sm\n",
    "\n",
    "import pingouin as pg\n",
    "\n",
    "import matplotlib as mpl\n",
    "import matplotlib.pyplot as plt\n",
    "\n",
    "from datetime import date\n",
    "import time\n",
    "\n",
    "import h5py"
   ]
  },
  {
   "cell_type": "code",
   "execution_count": 2,
   "id": "a2efd57f",
   "metadata": {},
   "outputs": [],
   "source": [
    "# no top and right spines in all plots\n",
    "mpl.rcParams['axes.spines.right'] = False\n",
    "mpl.rcParams['axes.spines.top'] = False"
   ]
  },
  {
   "cell_type": "code",
   "execution_count": 2,
   "id": "75d558bd",
   "metadata": {},
   "outputs": [],
   "source": [
    "# Make sure you change \"mother_path\" properly to run this code\n",
    "mother_path = Path('C:/multimodal-object-recognition-PER/')\n",
    "\n",
    "fig_path = mother_path / 'result' / 'figures'\n",
    "os.makedirs(fig_path,exist_ok=True)"
   ]
  },
  {
   "cell_type": "markdown",
   "id": "c9d779bc",
   "metadata": {},
   "source": [
    "### Parameter setting"
   ]
  },
  {
   "cell_type": "code",
   "execution_count": 4,
   "id": "80036cec",
   "metadata": {},
   "outputs": [],
   "source": [
    "gauss_sigma = 2\n",
    "\n",
    "# colors for multimodal, vis-only, aud-only conditions\n",
    "color = ['mediumorchid','cornflowerblue','lightcoral','gray']\n",
    "color2 = ['cyan','magenta','gray']\n",
    "linestyle = ['-',':']\n",
    "\n",
    "today = str(date.today())"
   ]
  },
  {
   "cell_type": "markdown",
   "id": "74ff06dc",
   "metadata": {},
   "source": [
    "### Data preparation"
   ]
  },
  {
   "cell_type": "code",
   "execution_count": 5,
   "id": "e42dba14",
   "metadata": {},
   "outputs": [],
   "source": [
    "# load results from ANOVA\n",
    "data_path = mother_path /'result'/'ANOVA'/'2023-07-10'\n",
    "f = h5py.File(data_path/'2023-07-10_ANOVA_result.hdf5','r')\n",
    "\n",
    "# load results from multiple linear regression\n",
    "data2_path = mother_path /'result'/'multiple linear regression'/'2023-07-10'\n",
    "f2 = h5py.File(data2_path/'2023-07-10_multiple_regression_result.hdf5','r')"
   ]
  },
  {
   "cell_type": "code",
   "execution_count": 6,
   "id": "f0d3e2ba",
   "metadata": {},
   "outputs": [],
   "source": [
    "def h5_to_df(f):\n",
    "    keys = list(f.keys())\n",
    "    attributes = {}\n",
    "    \n",
    "    for key in keys:\n",
    "        attributes[key] = dict(f[key].attrs.items())\n",
    "    \n",
    "    df = pd.DataFrame.from_dict(attributes, orient='index')\n",
    "    df.index.name = 'key'\n",
    "    df = df.reset_index()\n",
    "    \n",
    "    return df"
   ]
  },
  {
   "cell_type": "code",
   "execution_count": 7,
   "id": "31148c69",
   "metadata": {},
   "outputs": [],
   "source": [
    "# convert h5py to data frame\n",
    "\n",
    "df = h5_to_df(f2)\n",
    "df = df[(df['region']=='PER')&(df['response cell']==0)]\n",
    "df.reset_index(inplace=True,drop=True)\n",
    "\n",
    "object_bin_all = np.zeros((0,90))\n",
    "object_peak = []\n",
    "\n",
    "for key in df['key']:    \n",
    "    df.loc[df['key']==key,'pref_obj'] = f[key].attrs['preferred object']\n",
    "    df.loc[df['key']==key,'peak_selectivity'] = np.max(f[f'{key}/anova_eta'])  \n",
    "    df.loc[df['key']==key,'peak_selectivity_time'] = f[key].attrs['peak selectivity time']\n",
    "    df.loc[df['key']==key,'selectivity_duration'] = len(f[f'{key}/object_bin'])*10\n",
    "    df.loc[df['key']==key,'selectivity_onset'] = np.min(f[f'{key}/object_bin'])*10\n",
    "    df.loc[df['key']==key,'selectivity_index'] = np.abs(f[key].attrs['selectivity index'])\n",
    "    \n",
    "    selective_bin = np.zeros(90)\n",
    "    selective_bin[f[f'{key}/object_bin']] = 1\n",
    "    \n",
    "    object_bin_all = np.append(object_bin_all, [selective_bin], axis=0)\n",
    "    object_peak.append(df.loc[df['key']==key,'peak_selectivity_time'].item())\n",
    "\n",
    "        \n",
    "df['peak_selectivity_time_range'] = (df['peak_selectivity_time'] // 100) + 1\n",
    "df['selectivity_onset_range'] = (df['peak_selectivity_time'] // 100) + 1\n",
    "\n",
    "for i in range(len(df)):\n",
    "    if df.loc[i,'peak_selectivity_time'] < 200:\n",
    "        df.loc[i,'peak_selectivity_time_range2'] = 0\n",
    "    elif 200 <= df.loc[i,'peak_selectivity_time'] < 400:\n",
    "        df.loc[i,'peak_selectivity_time_range2'] = 1\n",
    "    elif 400 <= df.loc[i,'peak_selectivity_time'] < 650:\n",
    "        df.loc[i,'peak_selectivity_time_range2'] = 2\n",
    "    elif 650 <= df.loc[i,'peak_selectivity_time'] < 900:\n",
    "        df.loc[i,'peak_selectivity_time_range2'] = 3"
   ]
  },
  {
   "cell_type": "markdown",
   "id": "a9fc4622",
   "metadata": {},
   "source": [
    "### Population object selectivity (Fig 4C)"
   ]
  },
  {
   "cell_type": "code",
   "execution_count": 103,
   "id": "7fa961c8",
   "metadata": {},
   "outputs": [
    {
     "data": {
      "image/png": "[encoded data removed]",
      "text/plain": [
       "<Figure size 288x432 with 1 Axes>"
      ]
     },
     "metadata": {
      "needs_background": "light"
     },
     "output_type": "display_data"
    }
   ],
   "source": [
    "sorted_index = np.argsort(object_peak)\n",
    "object_sorted = object_bin_all[sorted_index]\n",
    "\n",
    "fig,ax = plt.subplots(figsize=(4,6))\n",
    "\n",
    "for i in range(len(object_sorted)):\n",
    "    s_start = np.min(np.where(object_sorted[i,:]))\n",
    "    s_end = np.max(np.where(object_sorted[i,:]))\n",
    "    ax.hlines(y=i, xmin = s_start, xmax = s_end, color='gold')\n",
    "    ax.scatter(x=df.loc[sorted_index[i],'peak_selectivity_time']/10, y=i, color='darkorange', s=10)\n",
    "    \n",
    "ax.set_xticks([0,40,90])\n",
    "ax.set_xticklabels([0,400,900])\n",
    "ax.set_xlabel('Time (ms)',fontsize=13)\n",
    "ax.set_yticks([0, 19, 39, 59, 79, 99, 119, 139, len(df)-1])\n",
    "ax.set_yticklabels([1, 20, 40, 60, 80, 100, 120, 140, len(df)])\n",
    "ax.set_ylabel('Cell #',fontsize=13)\n",
    "ax.set_title('Object cell', fontsize=16)\n",
    "\n",
    "plt.tight_layout()\n",
    "\n",
    "#plt.savefig(fig_path / 'svg' / 'population_selectivity_object_cell.svg')"
   ]
  },
  {
   "cell_type": "markdown",
   "id": "a9dee378",
   "metadata": {},
   "source": [
    "### Peak time vs. Selectivity duration (Fig 4D)"
   ]
  },
  {
   "cell_type": "code",
   "execution_count": 107,
   "id": "e1bbca3c",
   "metadata": {},
   "outputs": [
    {
     "data": {
      "image/png": "[encoded data removed]",
      "text/plain": [
       "<Figure size 648x288 with 1 Axes>"
      ]
     },
     "metadata": {
      "needs_background": "light"
     },
     "output_type": "display_data"
    },
    {
     "name": "stdout",
     "output_type": "stream",
     "text": [
      "median of selectivity duration = 80.00\n"
     ]
    }
   ],
   "source": [
    "fig,ax = plt.subplots(figsize=(9,4))\n",
    "\n",
    "ax.stem(df['peak_selectivity_time'],df['selectivity_duration'], linefmt = 'gray',\n",
    "       markerfmt = 'ko')\n",
    "ax.set_ylabel('Selectivity duration (ms)',fontsize=15)\n",
    "ax.set_yticks(np.arange(0,700,100));\n",
    "ax.set_ylim([0,600])\n",
    "ax.set_xlabel('Peak selectivity time (ms)',fontsize=15)\n",
    "ax.set_xticks(np.arange(0,1000,100));\n",
    "\n",
    "xline = np.arange(0,900,1)\n",
    "#ax.plot(xline,ln(xline,ln_result[0],ln_result[1]),color='tab:red',linestyle='-', linewidth=2)\n",
    "#ax.plot(xline,poly(xline,poly_result[0],poly_result[1],poly_result[2]),\n",
    "#       color='tab:red',linestyle='-.', linewidth=2)\n",
    "#ax.plot(xline,sigmoid(xline,sigmoid_result[0],sigmoid_result[1],sigmoid_result[2],sigmoid_result[3]),\n",
    "#        color='tab:red',linestyle='--', linewidth=2)\n",
    "\n",
    "plt.tight_layout()\n",
    "plt.show()\n",
    "#plt.savefig(fig_path / 'peaktime_duration_stem.png', dpi=300,facecolor='white')\n",
    "#plt.savefig(fig_path / 'peaktime_duration_stem.svg')\n",
    "\n",
    "median_duration = np.median(df['selectivity_duration'])\n",
    "ax.axhline(y=median_duration, color='red', linestyle='--')\n",
    "print(f'median of selectivity duration = {median_duration:.2f}')"
   ]
  },
  {
   "cell_type": "markdown",
   "id": "bb35e59e-9434-40ff-8fba-df3595f25605",
   "metadata": {},
   "source": [
    "### Peak time vs. Selectivity duration (Fig 4E)"
   ]
  },
  {
   "cell_type": "code",
   "execution_count": 109,
   "id": "d1966640",
   "metadata": {},
   "outputs": [
    {
     "name": "stdout",
     "output_type": "stream",
     "text": [
      "                         Source            SS   DF           MS         F  \\\n",
      "0  peak_selectivity_time_range2  2.945856e+03    3   981.951849  0.138651   \n",
      "1                        Within  1.026913e+06  145  7082.160033       NaN   \n",
      "\n",
      "      p-unc      np2  \n",
      "0  0.936753  0.00286  \n",
      "1       NaN      NaN  \n"
     ]
    },
    {
     "data": {
      "image/png": "[encoded data removed]",
      "text/plain": [
       "<Figure size 360x288 with 1 Axes>"
      ]
     },
     "metadata": {
      "needs_background": "light"
     },
     "output_type": "display_data"
    }
   ],
   "source": [
    "fig,ax = plt.subplots(figsize=(5,4))\n",
    "\n",
    "x = range(4)\n",
    "y = df.groupby('peak_selectivity_time_range2').mean()['selectivity_duration']\n",
    "yerr = df.groupby('peak_selectivity_time_range2').sem()['selectivity_duration']\n",
    "\n",
    "ax.bar(x=x, height=y, color='tab:orange')\n",
    "ax.errorbar(x=x, y=y, yerr=yerr, fmt='none',color='black', linewidth=3)\n",
    "#ax.set_yticks(np.arange(0,210,50))\n",
    "ax.set_ylabel('Selectivity duration (ms)',fontsize=14)\n",
    "ax.set_xlabel('Peak selectivity time (ms)',fontsize=14)\n",
    "ax.set_xticks(range(4))\n",
    "ax.set_xticklabels(['0-200','200-400','400-650','650-900'])\n",
    "ax.tick_params(axis='x',labelrotation=45);\n",
    "ax.set_yticks(np.arange(0,200,50))\n",
    "ax.set_ylim([0, 150])\n",
    "\n",
    "plt.tight_layout()\n",
    "#plt.show()\n",
    "#plt.savefig(fig_path / 'selectivity_duration_bar.png', dpi=300,facecolor='white')\n",
    "plt.savefig(fig_path / 'svg' / 'selectivity_duration_bar.svg')\n",
    "\n",
    "anova_result = pg.anova(data=df, dv='selectivity_duration', between='peak_selectivity_time_range2', detailed=True)\n",
    "print(anova_result)"
   ]
  },
  {
   "cell_type": "code",
   "execution_count": 22,
   "id": "283502c8",
   "metadata": {},
   "outputs": [
    {
     "data": {
      "text/html": [
       "<div>\n",
       "<style scoped>\n",
       "    .dataframe tbody tr th:only-of-type {\n",
       "        vertical-align: middle;\n",
       "    }\n",
       "\n",
       "    .dataframe tbody tr th {\n",
       "        vertical-align: top;\n",
       "    }\n",
       "\n",
       "    .dataframe thead th {\n",
       "        text-align: right;\n",
       "    }\n",
       "</style>\n",
       "<table border=\"1\" class=\"dataframe\">\n",
       "  <thead>\n",
       "    <tr style=\"text-align: right;\">\n",
       "      <th></th>\n",
       "      <th>Source</th>\n",
       "      <th>SS</th>\n",
       "      <th>DF</th>\n",
       "      <th>MS</th>\n",
       "      <th>F</th>\n",
       "      <th>p-unc</th>\n",
       "      <th>np2</th>\n",
       "    </tr>\n",
       "  </thead>\n",
       "  <tbody>\n",
       "    <tr>\n",
       "      <th>0</th>\n",
       "      <td>peak_selectivity_time_range2</td>\n",
       "      <td>3.531103e+04</td>\n",
       "      <td>3</td>\n",
       "      <td>11770.344146</td>\n",
       "      <td>1.171702</td>\n",
       "      <td>0.322003</td>\n",
       "      <td>0.019473</td>\n",
       "    </tr>\n",
       "    <tr>\n",
       "      <th>1</th>\n",
       "      <td>Within</td>\n",
       "      <td>1.778055e+06</td>\n",
       "      <td>177</td>\n",
       "      <td>10045.506855</td>\n",
       "      <td>NaN</td>\n",
       "      <td>NaN</td>\n",
       "      <td>NaN</td>\n",
       "    </tr>\n",
       "  </tbody>\n",
       "</table>\n",
       "</div>"
      ],
      "text/plain": [
       "                         Source            SS   DF            MS         F  \\\n",
       "0  peak_selectivity_time_range2  3.531103e+04    3  11770.344146  1.171702   \n",
       "1                        Within  1.778055e+06  177  10045.506855       NaN   \n",
       "\n",
       "      p-unc       np2  \n",
       "0  0.322003  0.019473  \n",
       "1       NaN       NaN  "
      ]
     },
     "execution_count": 22,
     "metadata": {},
     "output_type": "execute_result"
    }
   ],
   "source": [
    "pg.anova(data=df, dv='selectivity_duration', between='peak_selectivity_time_range2', detailed=True)"
   ]
  }
 ],
 "metadata": {
  "kernelspec": {
   "display_name": "Python 3 (ipykernel)",
   "language": "python",
   "name": "python3"
  },
  "language_info": {
   "codemirror_mode": {
    "name": "ipython",
    "version": 3
   },
   "file_extension": ".py",
   "mimetype": "text/x-python",
   "name": "python",
   "nbconvert_exporter": "python",
   "pygments_lexer": "ipython3",
   "version": "3.11.5"
  }
 },
 "nbformat": 4,
 "nbformat_minor": 5
}
