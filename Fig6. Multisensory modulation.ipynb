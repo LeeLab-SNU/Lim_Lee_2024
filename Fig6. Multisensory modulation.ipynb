{
 "cells": [
  {
   "cell_type": "markdown",
   "id": "c2d4f156",
   "metadata": {},
   "source": [
    "## Multisensory modulation (Fig 6)\n",
    "This code examines how single neurons were modulated by multisensory information compared to unimodal information."
   ]
  },
  {
   "cell_type": "code",
   "execution_count": 2,
   "id": "6ef091ff",
   "metadata": {},
   "outputs": [],
   "source": [
    "import os\n",
    "from pathlib import Path\n",
    "import numpy as np\n",
    "import pandas as pd\n",
    "\n",
    "from scipy import stats\n",
    "import statsmodels.api as sm\n",
    "\n",
    "import pingouin as pg\n",
    "\n",
    "import matplotlib as mpl\n",
    "import matplotlib.pyplot as plt\n",
    "import seaborn as sns\n",
    "\n",
    "from datetime import date\n",
    "import time\n",
    "\n",
    "import h5py"
   ]
  },
  {
   "cell_type": "code",
   "execution_count": 3,
   "id": "a2efd57f",
   "metadata": {},
   "outputs": [],
   "source": [
    "# no top and right spines in all plots\n",
    "mpl.rcParams['axes.spines.right'] = False\n",
    "mpl.rcParams['axes.spines.top'] = False"
   ]
  },
  {
   "cell_type": "code",
   "execution_count": 4,
   "id": "75d558bd",
   "metadata": {},
   "outputs": [],
   "source": [
    "# Make sure you change \"mother_path\" properly to run this code\n",
    "mother_path = Path('C:/multimodal-object-recognition-PER/')\n",
    "\n",
    "fig_path = mother_path / 'result' / 'figures'\n",
    "os.makedirs(fig_path,exist_ok=True)"
   ]
  },
  {
   "cell_type": "markdown",
   "id": "c9d779bc",
   "metadata": {},
   "source": [
    "### Parameter setting"
   ]
  },
  {
   "cell_type": "code",
   "execution_count": 5,
   "id": "80036cec",
   "metadata": {},
   "outputs": [],
   "source": [
    "# colors for multimodal, vis-only, aud-only conditions\n",
    "color = ['tab:blue','tab:red','tab:gray']\n",
    "color2 = ['cyan','magenta','gray']\n",
    "linestyle = ['-',':']\n",
    "\n",
    "today = str(date.today())"
   ]
  },
  {
   "cell_type": "markdown",
   "id": "74ff06dc",
   "metadata": {},
   "source": [
    "### Data preparation"
   ]
  },
  {
   "cell_type": "code",
   "execution_count": 6,
   "id": "e42dba14",
   "metadata": {},
   "outputs": [],
   "source": [
    "# load results from ANOVA\n",
    "data_path = mother_path /'result'/'ANOVA'/'2023-07-10'\n",
    "f = h5py.File(data_path/'2023-07-10_ANOVA_result.hdf5','r')\n",
    "\n",
    "# load results from multiple linear regression\n",
    "data2_path = mother_path /'result'/'multiple linear regression'/'2023-07-10'\n",
    "f2 = h5py.File(data2_path/'2023-07-10_multiple_regression_result.hdf5','r')"
   ]
  },
  {
   "cell_type": "code",
   "execution_count": 7,
   "id": "f0d3e2ba",
   "metadata": {},
   "outputs": [],
   "source": [
    "def h5_to_df(f):\n",
    "    keys = list(f.keys())\n",
    "    attributes = {}\n",
    "    \n",
    "    for key in keys:\n",
    "        attributes[key] = dict(f[key].attrs.items())\n",
    "    \n",
    "    df = pd.DataFrame.from_dict(attributes, orient='index')\n",
    "    df.index.name = 'key'\n",
    "    df = df.reset_index()\n",
    "    \n",
    "    return df"
   ]
  },
  {
   "cell_type": "code",
   "execution_count": 8,
   "id": "d4a51011",
   "metadata": {},
   "outputs": [],
   "source": [
    "df = h5_to_df(f2)\n",
    "df = df[(df['region']=='PER')&(df['response cell']==0)]\n",
    "df.reset_index(inplace=True,drop=True)\n",
    "\n",
    "for key in df['key']:  \n",
    "    \n",
    "    df.loc[df['key']==key,'pref_obj'] = f[key].attrs['preferred object']\n",
    "    df.loc[df['key']==key,'peak_selectivity'] = np.max(f[f'{key}/anova_eta'])  \n",
    "    df.loc[df['key']==key,'peak_selectivity_time'] = f[key].attrs['peak selectivity time']\n",
    "    df.loc[df['key']==key,'selectivity_duration'] = len(f[f'{key}/object_bin'])*10\n",
    "    df.loc[df['key']==key,'selectivity_onset'] = np.min(f[f'{key}/object_bin'])*10\n",
    "    df.loc[df['key']==key,'selectivity_index'] = f[key].attrs['selectivity index']\n",
    "      \n",
    "    # load beta coefficients and multisensory modulation index\n",
    "    if f[key].attrs['preferred object'] == 'Boy':\n",
    "        df.loc[df['key']==key,'coef_pref_image'] = f2[f'{key}/basic/beta_coef'][0]\n",
    "        df.loc[df['key']==key,'coef_pref_sound'] = f2[f'{key}/basic/beta_coef'][1]\n",
    "        \n",
    "        df.loc[df['key']==key,'coef_nonpref_image'] = f2[f'{key}/basic/beta_coef'][2]\n",
    "        df.loc[df['key']==key,'coef_nonpref_sound'] = f2[f'{key}/basic/beta_coef'][3]\n",
    "        \n",
    "        df.loc[df['key']==key,'pref_MV_mod'] = f[f'{key}/multi_cohend'][0]\n",
    "        df.loc[df['key']==key,'pref_MA_mod'] = f[f'{key}/multi_cohend'][1]\n",
    "        \n",
    "        df.loc[df['key']==key,'nonpref_MV_mod'] = f[f'{key}/multi_cohend'][2]\n",
    "        df.loc[df['key']==key,'nonpref_MA_mod'] = f[f'{key}/multi_cohend'][3]        \n",
    "    else:\n",
    "        df.loc[df['key']==key,'coef_pref_image'] = f2[f'{key}/basic/beta_coef'][2]\n",
    "        df.loc[df['key']==key,'coef_pref_sound'] = f2[f'{key}/basic/beta_coef'][3]\n",
    "        \n",
    "        df.loc[df['key']==key,'coef_nonpref_image'] = f2[f'{key}/basic/beta_coef'][0]\n",
    "        df.loc[df['key']==key,'coef_nonpref_sound'] = f2[f'{key}/basic/beta_coef'][1]\n",
    "        \n",
    "        df.loc[df['key']==key,'pref_MV_mod'] = f[f'{key}/multi_cohend'][2]\n",
    "        df.loc[df['key']==key,'pref_MA_mod'] = f[f'{key}/multi_cohend'][3]\n",
    "        \n",
    "        df.loc[df['key']==key,'nonpref_MV_mod'] = f[f'{key}/multi_cohend'][0]\n",
    "        df.loc[df['key']==key,'nonpref_MA_mod'] = f[f'{key}/multi_cohend'][1]      \n",
    "        \n",
    "df['peak_selectivity_time_range'] = (df['peak_selectivity_time'] // 100) + 1        \n",
    "\n",
    "for i in range(len(df)):\n",
    "    if df.loc[i,'peak_selectivity_time'] < 200:    # sample first half\n",
    "        df.loc[i,'peak_selectivity_time_range2'] = 0    \n",
    "    elif 200 <= df.loc[i,'peak_selectivity_time'] < 400:    # sample second half\n",
    "        df.loc[i,'peak_selectivity_time_range2'] = 1\n",
    "    elif 400 <= df.loc[i,'peak_selectivity_time'] < 650:    # response first half\n",
    "        df.loc[i,'peak_selectivity_time_range2'] = 2\n",
    "    elif 650 <= df.loc[i,'peak_selectivity_time'] < 900:    # response second half\n",
    "        df.loc[i,'peak_selectivity_time_range2'] = 3"
   ]
  },
  {
   "cell_type": "markdown",
   "id": "e1a56520",
   "metadata": {},
   "source": [
    "### Classifying visual, auditory, and crossmodal neurons"
   ]
  },
  {
   "cell_type": "code",
   "execution_count": 10,
   "id": "19c4a03a",
   "metadata": {},
   "outputs": [],
   "source": [
    "# classification based on permutation test (shuffling)\n",
    "for i in range(len(df)):\n",
    "    k = df.loc[i,'key']\n",
    "    beta_diff = df.loc[i,'coef_pref_image']-df.loc[i,'coef_pref_sound']\n",
    "    if df.loc[i,'pref_obj']=='Boy':\n",
    "        beta_diff_shuffle = np.subtract(f2[f'{key}/basic_shuffle/beta_coef'][:,0],\n",
    "                                        f2[f'{key}/basic_shuffle/beta_coef'][:,1])\n",
    "    else:\n",
    "        beta_diff_shuffle = np.subtract(f2[f'{key}/basic_shuffle/beta_coef'][:,2],\n",
    "                                        f2[f'{key}/basic_shuffle/beta_coef'][:,3])\n",
    "    visual_crit = np.percentile(beta_diff_shuffle,97.5)\n",
    "    auditory_crit = np.percentile(beta_diff_shuffle,2.5)\n",
    "    \n",
    "    if beta_diff > visual_crit:\n",
    "        df.loc[i,'Category'] = 'visual'\n",
    "    elif beta_diff < auditory_crit:\n",
    "        df.loc[i,'Category'] = 'auditory'\n",
    "    else:\n",
    "        df.loc[i,'Category'] = 'crossmodal'"
   ]
  },
  {
   "cell_type": "code",
   "execution_count": 11,
   "id": "2ebc0048",
   "metadata": {},
   "outputs": [
    {
     "name": "stdout",
     "output_type": "stream",
     "text": [
      "The number of neurons in each category\n",
      "=======================================\n",
      "Visual cell: 21 / 149\n",
      "Auditory cell: 27 / 149\n",
      "Crossmodal cell: 101 / 149\n"
     ]
    }
   ],
   "source": [
    "x = [sum(df['Category']=='visual'), sum(df['Category']=='auditory'), sum(df['Category']=='crossmodal')]\n",
    "\n",
    "print('The number of neurons in each category')\n",
    "print('=======================================')\n",
    "print(f'Visual cell: {x[0]} / {np.sum(x)}')\n",
    "print(f'Auditory cell: {x[1]} / {np.sum(x)}')\n",
    "print(f'Crossmodal cell: {x[2]} / {np.sum(x)}')"
   ]
  },
  {
   "cell_type": "markdown",
   "id": "99eb5121-d01b-483d-b256-5330d5d99c37",
   "metadata": {},
   "source": [
    "## Examining Rate Modulation Index (RMI)"
   ]
  },
  {
   "cell_type": "markdown",
   "id": "f41f7096",
   "metadata": {},
   "source": [
    "### Rate modulation indices (VA-V and VA-A)"
   ]
  },
  {
   "cell_type": "markdown",
   "id": "72d6cbef",
   "metadata": {},
   "source": [
    "#### Visual and auditory cells"
   ]
  },
  {
   "cell_type": "code",
   "execution_count": 13,
   "id": "02aec801",
   "metadata": {},
   "outputs": [
    {
     "data": {
      "image/png": "[encoded data removed]",
      "text/plain": [
       "<Figure size 576x288 with 2 Axes>"
      ]
     },
     "metadata": {
      "needs_background": "light"
     },
     "output_type": "display_data"
    }
   ],
   "source": [
    "fig,ax = plt.subplots(1,2, figsize=(8,4))\n",
    "\n",
    "ax[0].scatter(df.loc[df['Category']=='visual','pref_MV_mod'], \n",
    "              df.loc[df['Category']=='visual','pref_MA_mod'], color='tab:cyan')\n",
    "ax[0].axhline(y=0, color='black', linestyle=':')\n",
    "ax[0].axvline(x=0, color='black', linestyle=':')\n",
    "ax[0].set_xlim([-1.5, 1.5]);\n",
    "ax[0].set_xticks(np.arange(-1.5, 1.6, 0.5));\n",
    "ax[0].set_ylim([-1.5, 1.5]);\n",
    "ax[0].set_yticks(np.arange(-1.5, 1.6, 0.5));\n",
    "ax[0].set_xlabel('VA-A', fontsize=15)\n",
    "ax[0].set_ylabel('VA-V', fontsize=15)\n",
    "ax[0].set_title('Visual cells', fontsize=15)\n",
    "\n",
    "#x1 = df.loc[df['Category']=='visual','pref_MV_mod'].mean()\n",
    "#sem1 = df.loc[df['Category']=='visual','pref_MV_mod'].sem()\n",
    "#x2 = df.loc[df['Category']=='visual','pref_MA_mod'].mean()\n",
    "#sem2 = df.loc[df['Category']=='visual','pref_MA_mod'].sem()\n",
    "#ax[0].errorbar(x1, x2, xerr=sem1, yerr=sem2, fmt='s')\n",
    "\n",
    "ax[1].scatter(df.loc[df['Category']=='auditory','pref_MA_mod'],\n",
    "              df.loc[df['Category']=='auditory','pref_MV_mod'], color='tab:pink')\n",
    "ax[1].axhline(y=0, color='black', linestyle=':')\n",
    "ax[1].axvline(x=0, color='black', linestyle=':')\n",
    "ax[1].set_xlim([-1.5, 1.5]);\n",
    "ax[1].set_xticks(np.arange(-1.5, 1.6, 0.5));\n",
    "ax[1].set_ylim([-1.5, 1.5]);\n",
    "ax[1].set_yticks(np.arange(-1.5, 1.6, 0.5));\n",
    "ax[1].set_xlabel('VA-V', fontsize=15)\n",
    "ax[1].set_ylabel('VA-A', fontsize=15)\n",
    "ax[1].set_title('Auditory cells', fontsize=15)\n",
    "\n",
    "#x1 = df.loc[df['Category']=='auditory','pref_MA_mod'].mean()\n",
    "#sem1 = df.loc[df['Category']=='auditory','pref_MA_mod'].sem()\n",
    "#x2 = df.loc[df['Category']=='auditory','pref_MV_mod'].mean()\n",
    "#sem2 = df.loc[df['Category']=='auditory','pref_MV_mod'].sem()\n",
    "#ax[1].errorbar(x1, x2, xerr=sem1, yerr=sem2, fmt='s')\n",
    "\n",
    "plt.tight_layout()\n",
    "\n",
    "#plt.savefig(fig_path / 'svg' / 'VA-V_VA_A_index_scatter.svg')"
   ]
  },
  {
   "cell_type": "code",
   "execution_count": 51,
   "id": "d69b9042",
   "metadata": {},
   "outputs": [
    {
     "data": {
      "image/png": "[encoded data removed]",
      "text/plain": [
       "<Figure size 648x288 with 4 Axes>"
      ]
     },
     "metadata": {
      "needs_background": "light"
     },
     "output_type": "display_data"
    }
   ],
   "source": [
    "fig,ax = plt.subplots(2,2,figsize=(9,4))\n",
    "\n",
    "x = ['pref_MV_mod', 'pref_MA_mod']\n",
    "xlabel = ['VA-V', 'VA-A']\n",
    "\n",
    "for i in range(2):\n",
    "    ax[0,i].hist(df.loc[df['Category']=='visual',x[i]], color='tab:cyan', bins=np.arange(-1.5,1.6,0.3), alpha=0.8, ec='white');\n",
    "    ax[0,i].axvline(x=df.loc[df['Category']=='visual',x[i]].mean(),color='black',linestyle=':')\n",
    "    ax[0,i].set_xlabel(xlabel[i], fontsize=14);\n",
    "    ax[0,i].set_xticks(np.arange(-1.5,1.6,1.5));\n",
    "    ax[0,i].set_xlim([-1.5,1.5])\n",
    "    ax[0,i].set_ylabel('Count', fontsize=14);\n",
    "    #ax[0,i].set_yticks(np.arange(0,45,10));\n",
    "    ax[0,i].set_ylim([0,10])\n",
    "    ax[0,i].set_yticks([0,5,10])\n",
    "    \n",
    "    ax[1,i].hist(df.loc[df['Category']=='auditory',x[i]], color='tab:pink', bins=np.arange(-1.5,1.6,0.3), alpha=0.8, ec='white');\n",
    "    ax[1,i].axvline(x=df.loc[df['Category']=='auditory',x[i]].mean(),color='black',linestyle=':')\n",
    "    ax[1,i].set_xlabel(xlabel[i], fontsize=14);\n",
    "    ax[1,i].set_xticks(np.arange(-1.5,1.6,1.5));\n",
    "    ax[1,i].set_xlim([-1.5,1.5])\n",
    "    ax[1,i].set_ylabel('Count', fontsize=14);\n",
    "    ax[1,i].set_ylim([0,10])\n",
    "    ax[1,i].set_yticks([0,5,10])\n",
    "    \n",
    "plt.tight_layout()\n",
    "#plt.savefig(fig_path / 'image_sound_hist.png', dpi=300,facecolor='white')\n",
    "plt.savefig(fig_path / 'svg' / 'VA-V_VA-A_hist.svg')"
   ]
  },
  {
   "cell_type": "code",
   "execution_count": 19,
   "id": "80210266",
   "metadata": {},
   "outputs": [
    {
     "name": "stdout",
     "output_type": "stream",
     "text": [
      "Visual cells\n",
      "VA-V\n",
      "               T  dof alternative         p-val           CI95%   cohen-d  \\\n",
      "T-test -8.904344   20   two-sided  2.144607e-08  [-0.69, -0.43]  1.943087   \n",
      "\n",
      "             BF10  power  \n",
      "T-test  6.219e+05    1.0  \n",
      "VA-A\n",
      "               T  dof alternative     p-val          CI95%   cohen-d   BF10  \\\n",
      "T-test  1.776517   20   two-sided  0.090863  [-0.02, 0.26]  0.387668  0.863   \n",
      "\n",
      "           power  \n",
      "T-test  0.394215  \n",
      "===================================================================\n",
      "Auditory cells\n",
      "VA-A\n",
      "               T  dof alternative     p-val           CI95%   cohen-d  \\\n",
      "T-test -4.476013   26   two-sided  0.000134  [-0.45, -0.17]  0.861409   \n",
      "\n",
      "           BF10     power  \n",
      "T-test  203.629  0.990496  \n",
      "VA-V\n",
      "               T  dof alternative         p-val         CI95%   cohen-d  \\\n",
      "T-test  9.181568   26   two-sided  1.216453e-09  [0.63, 0.99]  1.766993   \n",
      "\n",
      "             BF10  power  \n",
      "T-test  9.359e+06    1.0  \n"
     ]
    }
   ],
   "source": [
    "print('Visual cells')\n",
    "print('VA-V')\n",
    "print(pg.ttest(df.loc[df['Category']=='visual','pref_MV_mod'], y = 0))\n",
    "print('VA-A')\n",
    "print(pg.ttest(df.loc[df['Category']=='visual','pref_MA_mod'], y = 0))\n",
    "\n",
    "print('===================================================================')\n",
    "print('Auditory cells')\n",
    "print('VA-A')\n",
    "print(pg.ttest(df.loc[df['Category']=='auditory','pref_MA_mod'], y = 0))\n",
    "print('VA-V')\n",
    "print(pg.ttest(df.loc[df['Category']=='auditory','pref_MV_mod'], y = 0))"
   ]
  },
  {
   "cell_type": "markdown",
   "id": "09129e2e",
   "metadata": {},
   "source": [
    "#### Crossmodal cells"
   ]
  },
  {
   "cell_type": "code",
   "execution_count": 18,
   "id": "af6445df",
   "metadata": {},
   "outputs": [
    {
     "data": {
      "image/png": "[encoded data removed]",
      "text/plain": [
       "<Figure size 288x288 with 1 Axes>"
      ]
     },
     "metadata": {
      "needs_background": "light"
     },
     "output_type": "display_data"
    }
   ],
   "source": [
    "fig,ax = plt.subplots(figsize=(4,4))\n",
    "\n",
    "ax.scatter(df.loc[df['Category']=='crossmodal','pref_MV_mod'], \n",
    "              df.loc[df['Category']=='crossmodal','pref_MA_mod'], color='gray')\n",
    "ax.axhline(y=0, color='black', linestyle=':')\n",
    "ax.axvline(x=0, color='black', linestyle=':')\n",
    "ax.set_xlim([-1.5, 1.5]);\n",
    "ax.set_xticks(np.arange(-1.5, 1.6, 0.5));\n",
    "ax.set_ylim([-1.5, 1.5]);\n",
    "ax.set_yticks(np.arange(-1.5, 1.6, 0.5));\n",
    "ax.set_xlabel('VA-V', fontsize=15)\n",
    "ax.set_ylabel('VA-A', fontsize=15)\n",
    "ax.set_title('Crossmodal cells', fontsize=15)\n",
    "\n",
    "plt.tight_layout()\n",
    "\n",
    "plt.savefig(fig_path / 'svg' / 'VA-V_VA-A_crossmodal_scatter.svg')"
   ]
  },
  {
   "cell_type": "code",
   "execution_count": 17,
   "id": "148a9cfe",
   "metadata": {},
   "outputs": [
    {
     "data": {
      "image/png": "[encoded data removed]",
      "text/plain": [
       "<Figure size 648x144 with 2 Axes>"
      ]
     },
     "metadata": {
      "needs_background": "light"
     },
     "output_type": "display_data"
    },
    {
     "name": "stdout",
     "output_type": "stream",
     "text": [
      "Crossmodal cells\n",
      "VA-V\n",
      "               T  dof alternative     p-val          CI95%   cohen-d   BF10  \\\n",
      "T-test  0.695386  100   two-sided  0.488427  [-0.04, 0.09]  0.069193  0.139   \n",
      "\n",
      "           power  \n",
      "T-test  0.105862  \n",
      "VA-A\n",
      "               T  dof alternative     p-val          CI95%   cohen-d   BF10  \\\n",
      "T-test -0.494462  100   two-sided  0.622065  [-0.06, 0.04]  0.049201  0.124   \n",
      "\n",
      "           power  \n",
      "T-test  0.077898  \n"
     ]
    }
   ],
   "source": [
    "fig,ax = plt.subplots(1,2,figsize=(9,2))\n",
    "\n",
    "x = ['pref_MV_mod', 'pref_MA_mod']\n",
    "xlabel = ['VA-V', 'VA-A']\n",
    "\n",
    "for i in range(2):\n",
    "    ax[i].hist(df.loc[df['Category']=='crossmodal',x[i]], color='gray', bins=np.arange(-1.5,1.6,0.3), alpha=0.8, ec='white');\n",
    "    ax[i].axvline(x=df.loc[df['Category']=='crossmodal',x[i]].mean(),color='black',linestyle=':')\n",
    "    ax[i].set_xlabel(xlabel[i], fontsize=14);\n",
    "    ax[i].set_xticks(np.arange(-1.5,1.6,1.5));\n",
    "    ax[i].set_xlim([-1.5,1.5])\n",
    "    ax[i].set_ylabel('Count', fontsize=14);\n",
    "    #ax[0,i].set_yticks(np.arange(0,45,10));\n",
    "    ax[i].set_ylim([0,40])\n",
    "    ax[i].set_yticks(np.arange(0,41,20))\n",
    "\n",
    "plt.tight_layout()\n",
    "#plt.savefig(fig_path / 'image_sound_hist.png', dpi=300,facecolor='white')\n",
    "plt.savefig(fig_path / 'svg' / 'VA-V_VA-A_crossmodal_hist.svg')\n",
    "plt.show()\n",
    "\n",
    "print('Crossmodal cells')\n",
    "print('VA-V')\n",
    "print(pg.ttest(df.loc[df['Category']=='crossmodal','pref_MV_mod'], y = 0))\n",
    "print('VA-A')\n",
    "print(pg.ttest(df.loc[df['Category']=='crossmodal','pref_MA_mod'], y = 0))"
   ]
  }
 ],
 "metadata": {
  "kernelspec": {
   "display_name": "Python 3 (ipykernel)",
   "language": "python",
   "name": "python3"
  },
  "language_info": {
   "codemirror_mode": {
    "name": "ipython",
    "version": 3
   },
   "file_extension": ".py",
   "mimetype": "text/x-python",
   "name": "python",
   "nbconvert_exporter": "python",
   "pygments_lexer": "ipython3",
   "version": "3.11.5"
  }
 },
 "nbformat": 4,
 "nbformat_minor": 5
}
